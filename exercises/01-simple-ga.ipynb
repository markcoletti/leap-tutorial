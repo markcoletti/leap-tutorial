{
 "cells": [
  {
   "cell_type": "markdown",
   "source": [
    "# Creating a simple genetic algorithm\n",
    "The objective of this exercise is to create a simple genetic algorithm.  Genetic algorithms\n",
    "have the following characteristics:\n",
    "\n",
    "* binary representation\n",
    "* fitness proportional parent selection\n",
    "* use of crossover and mutation\n",
    "* offspring replace parents\n",
    "* (optional) elitism to ensure awesome parents are not lost"
   ],
   "metadata": {
    "collapsed": false
   },
   "id": "6d7f36973f8b7f94"
  },
  {
   "cell_type": "code",
   "execution_count": 1,
   "outputs": [],
   "source": [
    "from leap_ec import Individual"
   ],
   "metadata": {
    "collapsed": false,
    "ExecuteTime": {
     "end_time": "2023-09-16T19:47:27.825197Z",
     "start_time": "2023-09-16T19:47:27.815177Z"
    }
   },
   "id": "30c59b4b2be85181"
  },
  {
   "cell_type": "markdown",
   "source": [
    "First we need to create the initial random population to solve the MaxOnes benchmark problem.  Since we're using a binary representation, the `MaxOnes` problem that is LEAP provided benchmark, and which just counts the ones in the genome as the fitness.  The `Individual` class comes with a convenience member function for creating a population of individuals, `create_population`.  We'll use that to create our initial population."
   ],
   "metadata": {
    "collapsed": false
   },
   "id": "8dabbac5664f5ee4"
  },
  {
   "cell_type": "code",
   "execution_count": 2,
   "outputs": [],
   "source": [
    "# Let's define some relevant constants first\n",
    "POP_SIZE = 5 # how large the population will be\n",
    "GENOME_LEN = 5 # how many bits are in the genome"
   ],
   "metadata": {
    "collapsed": false,
    "ExecuteTime": {
     "end_time": "2023-09-16T19:47:27.825340Z",
     "start_time": "2023-09-16T19:47:27.819232Z"
    }
   },
   "id": "a3660779e91714f8"
  },
  {
   "cell_type": "code",
   "execution_count": 4,
   "outputs": [],
   "source": [
    "# Now we can create the initial population\n",
    "from leap_ec.binary_rep.initializers import create_binary_sequence\n",
    "from leap_ec.decoder import IdentityDecoder\n",
    "from leap_ec.binary_rep.problems import MaxOnes\n",
    "parents = Individual.create_population(POP_SIZE, # how many individuals in the initial population\n",
    "                                       decoder=IdentityDecoder(), # how to decode the genome\n",
    "                                       problem=MaxOnes(), # the problem to solve\n",
    "                                       initialize=create_binary_sequence(GENOME_LEN))"
   ],
   "metadata": {
    "collapsed": false,
    "ExecuteTime": {
     "end_time": "2023-09-16T19:47:51.300642Z",
     "start_time": "2023-09-16T19:47:51.297760Z"
    }
   },
   "id": "aab5252698fa0e3c"
  },
  {
   "cell_type": "code",
   "execution_count": 5,
   "outputs": [
    {
     "data": {
      "text/plain": "[Individual<2ff1c439-9d35-4978-96f8-72e7f3c6222a>(array([False,  True, False, False,  True]), IdentityDecoder(), <leap_ec.binary_rep.problems.MaxOnes object at 0x1094b9cc0>),\n Individual<6c44cead-123f-455a-a44e-7848d1cdc4e2>(array([ True, False, False, False, False]), IdentityDecoder(), <leap_ec.binary_rep.problems.MaxOnes object at 0x1094b9cc0>),\n Individual<0376c155-ff7e-435a-882a-99671ba83389>(array([False, False,  True,  True,  True]), IdentityDecoder(), <leap_ec.binary_rep.problems.MaxOnes object at 0x1094b9cc0>),\n Individual<4318e34a-8868-4d09-88a1-6b10416e0685>(array([ True, False,  True,  True,  True]), IdentityDecoder(), <leap_ec.binary_rep.problems.MaxOnes object at 0x1094b9cc0>),\n Individual<c4d7c669-fa99-46f1-9d17-c476a12f271b>(array([ True,  True, False, False,  True]), IdentityDecoder(), <leap_ec.binary_rep.problems.MaxOnes object at 0x1094b9cc0>)]"
     },
     "execution_count": 5,
     "metadata": {},
     "output_type": "execute_result"
    }
   ],
   "source": [
    "# Let's look at what we get\n",
    "parents"
   ],
   "metadata": {
    "collapsed": false,
    "ExecuteTime": {
     "end_time": "2023-09-16T19:48:01.617367Z",
     "start_time": "2023-09-16T19:48:01.614206Z"
    }
   },
   "id": "1910ecea265f4503"
  },
  {
   "cell_type": "markdown",
   "source": [
    "We got five individuals. The text inside the <> is a UUID associated with each individual.  The genome is a numpy boolean array, which you can see is set to random values.  We also echo the decoder and problem associated with each individual."
   ],
   "metadata": {
    "collapsed": false
   },
   "id": "79305f25db19e6b1"
  },
  {
   "cell_type": "code",
   "execution_count": null,
   "outputs": [],
   "source": [],
   "metadata": {
    "collapsed": false
   },
   "id": "225b137d3e73368c"
  }
 ],
 "metadata": {
  "kernelspec": {
   "display_name": "Python 3",
   "language": "python",
   "name": "python3"
  },
  "language_info": {
   "codemirror_mode": {
    "name": "ipython",
    "version": 2
   },
   "file_extension": ".py",
   "mimetype": "text/x-python",
   "name": "python",
   "nbconvert_exporter": "python",
   "pygments_lexer": "ipython2",
   "version": "2.7.6"
  }
 },
 "nbformat": 4,
 "nbformat_minor": 5
}
